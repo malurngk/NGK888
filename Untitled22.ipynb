{
 "cells": [
  {
   "cell_type": "code",
   "execution_count": 8,
   "id": "79d9b1c5",
   "metadata": {},
   "outputs": [],
   "source": [
    "from sklearn import metrics"
   ]
  },
  {
   "cell_type": "code",
   "execution_count": 2,
   "id": "6ecd3e51",
   "metadata": {},
   "outputs": [],
   "source": [
    "c=\"cat\"\n",
    "d=\"dog\"\n",
    "f=\"fox\""
   ]
  },
  {
   "cell_type": "code",
   "execution_count": 10,
   "id": "1ee4055a",
   "metadata": {},
   "outputs": [
    {
     "name": "stdout",
     "output_type": "stream",
     "text": [
      "[[5 1 0]\n",
      " [3 7 0]\n",
      " [6 2 2]]\n",
      "              precision    recall  f1-score   support\n",
      "\n",
      "         cat      0.357     0.833     0.500         6\n",
      "         dog      0.700     0.700     0.700        10\n",
      "         fox      1.000     0.200     0.333        10\n",
      "\n",
      "    accuracy                          0.538        26\n",
      "   macro avg      0.686     0.578     0.511        26\n",
      "weighted avg      0.736     0.538     0.513        26\n",
      "\n"
     ]
    }
   ],
   "source": [
    "y_true = [c,c,c,c,c,c,  f,f,f,f,f,f,f,f,f,f,  d,d,d,d,d,d,d,d,d,d]\n",
    "y_pred = [c,c,c,c,c,d,  c,c,c,c,c,c,d,d,f,f,  c,c,c,d,d,d,d,d,d,d]\n",
    "print (metrics.confusion_matrix(y_true, y_pred))\n",
    "print(metrics.classification_report(y_true, y_pred, digits=3))\n",
    " "
   ]
  },
  {
   "cell_type": "code",
   "execution_count": null,
   "id": "a8ee6cb9",
   "metadata": {},
   "outputs": [],
   "source": []
  }
 ],
 "metadata": {
  "kernelspec": {
   "display_name": "Python 3 (ipykernel)",
   "language": "python",
   "name": "python3"
  },
  "language_info": {
   "codemirror_mode": {
    "name": "ipython",
    "version": 3
   },
   "file_extension": ".py",
   "mimetype": "text/x-python",
   "name": "python",
   "nbconvert_exporter": "python",
   "pygments_lexer": "ipython3",
   "version": "3.11.4"
  }
 },
 "nbformat": 4,
 "nbformat_minor": 5
}
