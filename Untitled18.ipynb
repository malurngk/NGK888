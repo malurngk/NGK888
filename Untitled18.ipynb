{
 "cells": [
  {
   "cell_type": "code",
   "execution_count": 1,
   "id": "29ab1736",
   "metadata": {},
   "outputs": [
    {
     "data": {
      "text/plain": [
       "[102, 109]"
      ]
     },
     "execution_count": 1,
     "metadata": {},
     "output_type": "execute_result"
    }
   ],
   "source": [
    "import numpy as np\n",
    "import matplotlib.pyplot as plt\n",
    "%matplotlib inline\n",
    "dataset=[11,10,12,14,12,15,14,13,15,102,10,13,12,14,12,109,12,11,14,13,10,15,12,10]\n",
    "outliers=[]\n",
    "def detect_outliers(data):\n",
    "    threshold=3\n",
    "    mean = np.mean(data)\n",
    "    std = np.std(data)\n",
    "    \n",
    "    for i in data:\n",
    "        z_score= (i - mean)/std\n",
    "        if np.abs(z_score) > threshold:.\n",
    "            outliers.append(i)\n",
    "    return outliers\n",
    "outlier_pt=detect_outliers(dataset)\n",
    "outlier_pt\n"
   ]
  },
  {
   "cell_type": "code",
   "execution_count": null,
   "id": "2a3f4612",
   "metadata": {},
   "outputs": [],
   "source": []
  }
 ],
 "metadata": {
  "kernelspec": {
   "display_name": "Python 3 (ipykernel)",
   "language": "python",
   "name": "python3"
  },
  "language_info": {
   "codemirror_mode": {
    "name": "ipython",
    "version": 3
   },
   "file_extension": ".py",
   "mimetype": "text/x-python",
   "name": "python",
   "nbconvert_exporter": "python",
   "pygments_lexer": "ipython3",
   "version": "3.11.4"
  }
 },
 "nbformat": 4,
 "nbformat_minor": 5
}
